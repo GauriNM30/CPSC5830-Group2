{
 "cells": [
  {
   "cell_type": "code",
   "execution_count": null,
   "metadata": {},
   "outputs": [],
   "source": [
    "# Improve the original answer and generate a better answer "
   ]
  },
  {
   "cell_type": "code",
   "execution_count": null,
   "metadata": {},
   "outputs": [
    {
     "data": {
      "text/plain": [
       "True"
      ]
     },
     "execution_count": 3,
     "metadata": {},
     "output_type": "execute_result"
    }
   ],
   "source": [
    "import pandas as pd\n",
    "import google.generativeai as genai\n",
    "import dotenv\n",
    "import time\n",
    "import os\n",
    "dotenv.load_dotenv()"
   ]
  },
  {
   "cell_type": "code",
   "execution_count": null,
   "metadata": {},
   "outputs": [
    {
     "data": {
      "text/plain": [
       "<bound method NDFrame.head of                                               Question  \\\n",
       "0                              How do I apply for CPT?   \n",
       "1                 What documents are required for CPT?   \n",
       "2                   How long does CPT processing take?   \n",
       "3       Can I work before receiving CPT authorization?   \n",
       "4                   Do I need to pay any fees for CPT?   \n",
       "..                                                 ...   \n",
       "126  How do I check the status of my Form I-765 app...   \n",
       "127  What should I do if I encounter technical issu...   \n",
       "128  Can I file Form I-765 online if I am applying ...   \n",
       "129  How do I upload supporting documents when fili...   \n",
       "130  What should I do if I realize I made a mistake...   \n",
       "\n",
       "                                                Answer  \n",
       "0    You must get approval from your Designated Sch...  \n",
       "1    Typically you need:\\n- CPT Request Form from y...  \n",
       "2    Processing usually takes 5-10 business days af...  \n",
       "3    No you must wait for approval and receive an u...  \n",
       "4    No CPT does not require a separate application...  \n",
       "..                                                 ...  \n",
       "126  After submitting your application online you c...  \n",
       "127  If you experience technical difficulties:\\n\\n ...  \n",
       "128  Yes F-1 students seeking OPT can file Form I-7...  \n",
       "129  During the online application process you will...  \n",
       "130  If you identify an error after submission prom...  \n",
       "\n",
       "[131 rows x 2 columns]>"
      ]
     },
     "execution_count": 2,
     "metadata": {},
     "output_type": "execute_result"
    }
   ],
   "source": [
    "raw_dataset = pd.read_csv('../dataset/cleaned_dataset.csv')\n",
    "raw_dataset.head"
   ]
  },
  {
   "cell_type": "code",
   "execution_count": 5,
   "metadata": {},
   "outputs": [
    {
     "data": {
      "text/plain": [
       "'You must get approval from your Designated School Official (DSO) and submit a CPT request form along with an offer letter from your employer.'"
      ]
     },
     "execution_count": 5,
     "metadata": {},
     "output_type": "execute_result"
    }
   ],
   "source": [
    "raw_dataset['Answer'].iloc[0]"
   ]
  },
  {
   "cell_type": "code",
   "execution_count": 6,
   "metadata": {},
   "outputs": [],
   "source": [
    "class DatasetAnsImprover:\n",
    "    def __init__(self) -> None:\n",
    "        api_key = os.getenv(\"GOOGLE_API_KEY\")\n",
    "        model_name = 'gemini-2.0-flash-exp'\n",
    "        genai.configure(api_key=api_key)\n",
    "        improve_answers_prompt = \"\"\"\n",
    "                            You are a leagal expert advisor. You will be given a question and an answer. You are required to improve the answer. Just reply with improved answer nothing else. Answer in a single paragraph in 3-4 sentences\"\"\"\n",
    "        self.chat_model = genai.GenerativeModel(model_name, system_instruction=improve_answers_prompt)\n",
    "\n",
    "    def improve_answer(self, question: str, answer:str) -> bool:\n",
    "        prompt = f\"\"\"\n",
    "        Question: {question}\n",
    "        Answer: {answer}\n",
    "        Improved Answer:        \n",
    "        \"\"\"\n",
    "        response = self.chat_model.generate_content(prompt)\n",
    "        return response.text.strip()\n"
   ]
  },
  {
   "cell_type": "code",
   "execution_count": null,
   "metadata": {},
   "outputs": [
    {
     "name": "stdout",
     "output_type": "stream",
     "text": [
      "Original Answer: You must get approval from your Designated School Official (DSO) and submit a CPT request form along with an offer letter from your employer.\n",
      "Improved Answer:\n",
      "('To apply for CPT, start by obtaining a job offer that qualifies for CPT and '\n",
      " 'then completing the CPT request form provided by your school. Next, you must '\n",
      " 'secure approval from your Designated School Official (DSO), who will review '\n",
      " 'your application and ensure it meets all requirements. Finally, submit the '\n",
      " 'completed CPT request form, along with your offer letter and any other '\n",
      " 'required documentation, to your DSO for processing and authorization.')\n"
     ]
    }
   ],
   "source": [
    "# import pprint\n",
    "# dataset_improver = DatasetAnsImprover()\n",
    "# improved_answer = dataset_improver.improve_answer(raw_dataset['Question'].iloc[0], raw_dataset['Answer'].iloc[0])\n",
    "\n",
    "# print('Original Answer:', raw_dataset['Answer'].iloc[0])\n",
    "# print('Improved Answer:')\n",
    "# pprint.pprint(improved_answer)"
   ]
  },
  {
   "cell_type": "code",
   "execution_count": null,
   "metadata": {},
   "outputs": [],
   "source": [
    "dataset_improver = DatasetAnsImprover()\n",
    "\n",
    "# loop over the dataset and improve the answers\n",
    "for index, row in raw_dataset.iterrows():\n",
    "    improved_answer = dataset_improver.improve_answer(row['Question'], row['Answer'])\n",
    "    time.sleep(3)\n",
    "    if index % 10 == 0:\n",
    "        time.sleep(5)\n",
    "    raw_dataset.at[index, 'Answer'] = improved_answer\n",
    "\n",
    "raw_dataset.to_csv('../dataset/cleaned_dataset_improved.csv', index=False)"
   ]
  },
  {
   "cell_type": "code",
   "execution_count": null,
   "metadata": {},
   "outputs": [],
   "source": []
  }
 ],
 "metadata": {
  "kernelspec": {
   "display_name": "base",
   "language": "python",
   "name": "python3"
  },
  "language_info": {
   "codemirror_mode": {
    "name": "ipython",
    "version": 3
   },
   "file_extension": ".py",
   "mimetype": "text/x-python",
   "name": "python",
   "nbconvert_exporter": "python",
   "pygments_lexer": "ipython3",
   "version": "3.11.5"
  }
 },
 "nbformat": 4,
 "nbformat_minor": 2
}
