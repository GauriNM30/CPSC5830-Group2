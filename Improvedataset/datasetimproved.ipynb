{
 "cells": [
  {
   "cell_type": "code",
   "execution_count": null,
   "metadata": {},
   "outputs": [],
   "source": [
    "# Improve the original answer and generate a better answer "
   ]
  },
  {
   "cell_type": "code",
   "execution_count": 1,
   "metadata": {},
   "outputs": [
    {
     "data": {
      "text/plain": [
       "True"
      ]
     },
     "execution_count": 1,
     "metadata": {},
     "output_type": "execute_result"
    }
   ],
   "source": [
    "import pandas as pd\n",
    "import google.generativeai as genai\n",
    "import dotenv\n",
    "import time\n",
    "import os\n",
    "dotenv.load_dotenv()"
   ]
  },
  {
   "cell_type": "code",
   "execution_count": 2,
   "metadata": {},
   "outputs": [
    {
     "data": {
      "text/plain": [
       "<bound method NDFrame.head of                                               Question  \\\n",
       "0    Is a high school diploma required for an F-1 v...   \n",
       "1             Is it important to memorize my SEVIS ID?   \n",
       "2    Is proof of housing required at the port of en...   \n",
       "3    What document does a school provide for an F-1...   \n",
       "4    What if I plan to do research collaboration wi...   \n",
       "..                                                 ...   \n",
       "995              What happens if I fall out of status?   \n",
       "996  How does an F-1 student apply for economic har...   \n",
       "997  Do university provide any job search resources...   \n",
       "998  How many months must I complete before I can a...   \n",
       "999  Will poor attendance in my previous institutio...   \n",
       "\n",
       "                                                Answer  \n",
       "0      It depends on the academic program applied for.  \n",
       "1    You should at least be familiar with it. Alway...  \n",
       "2    Not necessarily but CBP officers can ask about...  \n",
       "3                                           Form I-20.  \n",
       "4    Mention it if asked. Have an email or letter o...  \n",
       "..                                                 ...  \n",
       "995  You may need to apply for reinstatement or lea...  \n",
       "996                 By submitting Form I-765 to USCIS.  \n",
       "997  Yes our Career Services office offers a range ...  \n",
       "998  At least one academic year (two full semesters...  \n",
       "999  It can raise concerns. Explain the reasons for...  \n",
       "\n",
       "[1000 rows x 2 columns]>"
      ]
     },
     "execution_count": 2,
     "metadata": {},
     "output_type": "execute_result"
    }
   ],
   "source": [
    "raw_dataset = pd.read_csv('../dataset/cleaned_dataset.csv')\n",
    "raw_dataset.head"
   ]
  },
  {
   "cell_type": "code",
   "execution_count": 3,
   "metadata": {},
   "outputs": [
    {
     "data": {
      "text/plain": [
       "'It depends on the academic program applied for.'"
      ]
     },
     "execution_count": 3,
     "metadata": {},
     "output_type": "execute_result"
    }
   ],
   "source": [
    "raw_dataset['Answer'].iloc[0]"
   ]
  },
  {
   "cell_type": "code",
   "execution_count": 4,
   "metadata": {},
   "outputs": [
    {
     "data": {
      "text/plain": [
       "(1000, 2)"
      ]
     },
     "execution_count": 4,
     "metadata": {},
     "output_type": "execute_result"
    }
   ],
   "source": [
    "raw_dataset.shape"
   ]
  },
  {
   "cell_type": "code",
   "execution_count": 5,
   "metadata": {},
   "outputs": [],
   "source": [
    "class DatasetAnsImprover:\n",
    "    def __init__(self) -> None:\n",
    "        api_key = os.getenv(\"GOOGLE_API_KEY\")\n",
    "        model_name = 'gemini-2.0-flash-exp'\n",
    "        genai.configure(api_key=api_key)\n",
    "        improve_answers_prompt = \"\"\"\n",
    "                            You are a leagal expert advisor. You will be given a question and an answer. You are required to improve the answer. Just reply with improved answer nothing else. Answer in a single paragraph in 3-4 sentences\"\"\"\n",
    "        self.chat_model = genai.GenerativeModel(model_name, system_instruction=improve_answers_prompt)\n",
    "\n",
    "    def improve_answer(self, question: str, answer:str) -> bool:\n",
    "        prompt = f\"\"\"\n",
    "        Question: {question}\n",
    "        Answer: {answer}\n",
    "        Improved Answer:        \n",
    "        \"\"\"\n",
    "        response = self.chat_model.generate_content(prompt)\n",
    "        return response.text.strip()\n"
   ]
  },
  {
   "cell_type": "code",
   "execution_count": null,
   "metadata": {},
   "outputs": [
    {
     "name": "stdout",
     "output_type": "stream",
     "text": [
      "Original Answer: You must get approval from your Designated School Official (DSO) and submit a CPT request form along with an offer letter from your employer.\n",
      "Improved Answer:\n",
      "('To apply for CPT, start by obtaining a job offer that qualifies for CPT and '\n",
      " 'then completing the CPT request form provided by your school. Next, you must '\n",
      " 'secure approval from your Designated School Official (DSO), who will review '\n",
      " 'your application and ensure it meets all requirements. Finally, submit the '\n",
      " 'completed CPT request form, along with your offer letter and any other '\n",
      " 'required documentation, to your DSO for processing and authorization.')\n"
     ]
    }
   ],
   "source": [
    "# import pprint\n",
    "# dataset_improver = DatasetAnsImprover()\n",
    "# improved_answer = dataset_improver.improve_answer(raw_dataset['Question'].iloc[0], raw_dataset['Answer'].iloc[0])\n",
    "\n",
    "# print('Original Answer:', raw_dataset['Answer'].iloc[0])\n",
    "# print('Improved Answer:')\n",
    "# pprint.pprint(improved_answer)"
   ]
  },
  {
   "cell_type": "code",
   "execution_count": null,
   "metadata": {},
   "outputs": [],
   "source": [
    "# dataset_improver = DatasetAnsImprover()\n",
    "\n",
    "# # loop over the dataset and improve the answers\n",
    "# for index, row in raw_dataset.iterrows():\n",
    "#     try:\n",
    "#         improved_answer = dataset_improver.improve_answer(row['Question'], row['Answer'])\n",
    "#         time.sleep(3)\n",
    "#         if index % 10 == 0:\n",
    "#             time.sleep(5)\n",
    "#         raw_dataset.at[index, 'Answer'] = improved_answer\n",
    "#     except Exception as e:\n",
    "#         print(f\"Error at index {index}: {e}\")\n",
    "#         time.sleep(10)\n",
    "#         continue\n",
    "\n",
    "# raw_dataset.to_csv('../dataset/cleaned_dataset_answer_improved.csv', index=False)"
   ]
  },
  {
   "cell_type": "code",
   "execution_count": 7,
   "metadata": {},
   "outputs": [
    {
     "name": "stdout",
     "output_type": "stream",
     "text": [
      "Error at index 11: 429 Resource has been exhausted (e.g. check quota).\n",
      "Failed question is :  How do I know if my degree is considered STEM-eligible for the extension?\n",
      "Retrying (1/3) after 10 seconds...\n",
      "Error at index 32: 429 Resource has been exhausted (e.g. check quota).\n",
      "Failed question is :  What if the program includes study abroad segments in another country?\n",
      "Retrying (1/3) after 10 seconds...\n",
      "Error at index 43: 429 Resource has been exhausted (e.g. check quota).\n",
      "Failed question is :  Do I need a U.S. co-signer for my loan?\n",
      "Retrying (1/3) after 10 seconds...\n",
      "Saving rows 0 to 49\n",
      "Error at index 65: 429 Resource has been exhausted (e.g. check quota).\n",
      "Failed question is :  What if the school is delayed in issuing my I-20?\n",
      "Retrying (1/3) after 10 seconds...\n",
      "Error at index 87: 429 Resource has been exhausted (e.g. check quota).\n",
      "Failed question is :  Can an F-1 visa holder attend any school?\n",
      "Retrying (1/3) after 10 seconds...\n",
      "Saving rows 50 to 99\n",
      "Error at index 109: 429 Resource has been exhausted (e.g. check quota).\n",
      "Failed question is :  How do I handle questions about changing from one field of study to another?\n",
      "Retrying (1/3) after 10 seconds...\n",
      "Error at index 120: 429 Resource has been exhausted (e.g. check quota).\n",
      "Failed question is :  What if my transcripts are not in English?\n",
      "Retrying (1/3) after 10 seconds...\n",
      "Error at index 142: 429 Resource has been exhausted (e.g. check quota).\n",
      "Failed question is :  What is Form I-983 and when do I need to submit it for STEM OPT?\n",
      "Retrying (1/3) after 10 seconds...\n",
      "Saving rows 100 to 149\n",
      "Error at index 163: 429 Resource has been exhausted (e.g. check quota).\n",
      "Failed question is :  What are 'Student Responsibilities' and 'Employer Responsibilities' sections in Form I-983 actually asking for?\n",
      "Retrying (1/3) after 10 seconds...\n",
      "Error at index 163: 429 Resource has been exhausted (e.g. check quota).\n",
      "Failed question is :  What are 'Student Responsibilities' and 'Employer Responsibilities' sections in Form I-983 actually asking for?\n",
      "Retrying (2/3) after 10 seconds...\n",
      "Error at index 184: 429 Resource has been exhausted (e.g. check quota).\n",
      "Failed question is :  Will my F1 status automatically renew each semester?\n",
      "Retrying (1/3) after 10 seconds...\n",
      "Error at index 195: 429 Resource has been exhausted (e.g. check quota).\n",
      "Failed question is :  What is a 221(g) refusal?\n",
      "Retrying (1/3) after 10 seconds...\n",
      "Saving rows 150 to 199\n",
      "Error at index 206: 429 Resource has been exhausted (e.g. check quota).\n",
      "Failed question is :  What is the STEM OPT extension?\n",
      "Retrying (1/3) after 10 seconds...\n",
      "Error at index 227: 429 Resource has been exhausted (e.g. check quota).\n",
      "Failed question is :  Can I legally do freelance photography or tutoring while on F1?\n",
      "Retrying (1/3) after 10 seconds...\n",
      "Error at index 238: 429 Resource has been exhausted (e.g. check quota).\n",
      "Failed question is :  If I have technical issues with the SEVP portal (e.g. cannot log in errors updating information) who should I contact?\n",
      "Retrying (1/3) after 10 seconds...\n",
      "Saving rows 200 to 249\n",
      "Error at index 260: 429 Resource has been exhausted (e.g. check quota).\n",
      "Failed question is :  What if I have a low bank balance during the visa application?\n",
      "Retrying (1/3) after 10 seconds...\n",
      "Error at index 282: 429 Resource has been exhausted (e.g. check quota).\n",
      "Failed question is :  Can an F-1 student apply for an H-1B visa?\n",
      "Retrying (1/3) after 10 seconds...\n",
      "Error at index 293: 429 Resource has been exhausted (e.g. check quota).\n",
      "Failed question is :  What is the max duration for STEM OPT?\n",
      "Retrying (1/3) after 10 seconds...\n",
      "Saving rows 250 to 299\n",
      "Error at index 314: 429 Resource has been exhausted (e.g. check quota).\n",
      "Failed question is :  I am considering unpaid internship for OPT. What are the requirements for unpaid OPT?\n",
      "Retrying (1/3) after 10 seconds...\n",
      "Error at index 314: 429 Resource has been exhausted (e.g. check quota).\n",
      "Failed question is :  I am considering unpaid internship for OPT. What are the requirements for unpaid OPT?\n",
      "Retrying (2/3) after 10 seconds...\n",
      "Error at index 347: 429 Resource has been exhausted (e.g. check quota).\n",
      "Failed question is :  If I leave the U.S. during my OPT and decide not to return what happens to my OPT authorization and SEVIS record?\n",
      "Retrying (1/3) after 10 seconds...\n",
      "Saving rows 300 to 349\n",
      "Error at index 358: 429 Resource has been exhausted (e.g. check quota).\n",
      "Failed question is :  What is the I-901 SEVIS fee and is it separate from the I-20 fee?\n",
      "Retrying (1/3) after 10 seconds...\n",
      "Error at index 380: 429 Resource has been exhausted (e.g. check quota).\n",
      "Failed question is :  Will the Officer ask to see my social media or phone during the interview?\n",
      "Retrying (1/3) after 10 seconds...\n",
      "Saving rows 350 to 399\n",
      "Error at index 402: 429 Resource has been exhausted (e.g. check quota).\n",
      "Failed question is :  Can I work before receiving CPT authorization?\n",
      "Retrying (1/3) after 10 seconds...\n",
      "Error at index 424: 429 Resource has been exhausted (e.g. check quota).\n",
      "Failed question is :  Can I switch from part-time to full-time CPT mid-semester?\n",
      "Retrying (1/3) after 10 seconds...\n",
      "Error at index 435: 429 Resource has been exhausted (e.g. check quota).\n",
      "Failed question is :  Can I do CPT for multiple employers at the same time?\n",
      "Retrying (1/3) after 10 seconds...\n",
      "Saving rows 400 to 449\n",
      "Error at index 456: 429 Resource has been exhausted (e.g. check quota).\n",
      "Failed question is :  Can I pursue OPT if I studied English Literature or History?\n",
      "Retrying (1/3) after 10 seconds...\n",
      "Error at index 478: 429 Resource has been exhausted (e.g. check quota).\n",
      "Failed question is :  What if my program ends earlier than the date on my I-20?\n",
      "Retrying (1/3) after 10 seconds...\n",
      "Saving rows 450 to 499\n",
      "Error at index 511: 429 Resource has been exhausted (e.g. check quota).\n",
      "Failed question is :  What is CPT?\n",
      "Retrying (1/3) after 10 seconds...\n",
      "Error at index 522: 429 Resource has been exhausted (e.g. check quota).\n",
      "Failed question is :  Are medical examinations required for F1 applicants?\n",
      "Retrying (1/3) after 10 seconds...\n",
      "Saving rows 500 to 549\n",
      "Error at index 555: 429 Resource has been exhausted (e.g. check quota).\n",
      "Failed question is :  If I do Pre-Completion OPT will it reduce my Post-Completion OPT time? How does that work?\n",
      "Retrying (1/3) after 10 seconds...\n",
      "Error at index 555: 429 Resource has been exhausted (e.g. check quota).\n",
      "Failed question is :  If I do Pre-Completion OPT will it reduce my Post-Completion OPT time? How does that work?\n",
      "Retrying (2/3) after 10 seconds...\n",
      "Error at index 582: 429 Resource has been exhausted (e.g. check quota).\n",
      "Failed question is :  How long does the F1 visa interview usually last?\n",
      "Retrying (1/3) after 10 seconds...\n",
      "Error at index 593: 429 Resource has been exhausted (e.g. check quota).\n",
      "Failed question is :  What is economic hardship employment?\n",
      "Retrying (1/3) after 10 seconds...\n",
      "Saving rows 550 to 599\n",
      "Error at index 614: 429 Resource has been exhausted (e.g. check quota).\n",
      "Failed question is :  What if I plan to do a Ph.D. right after my bachelor’s?\n",
      "Retrying (1/3) after 10 seconds...\n",
      "Error at index 614: 429 Resource has been exhausted (e.g. check quota).\n",
      "Failed question is :  What if I plan to do a Ph.D. right after my bachelor’s?\n",
      "Retrying (2/3) after 10 seconds...\n",
      "Error at index 647: 429 Resource has been exhausted (e.g. check quota).\n",
      "Failed question is :  Do F-1 students need a medical exam?\n",
      "Retrying (1/3) after 10 seconds...\n",
      "Saving rows 600 to 649\n",
      "Error at index 658: 429 Resource has been exhausted (e.g. check quota).\n",
      "Failed question is :  Can I switch employers while my STEM OPT application is pending?\n",
      "Retrying (1/3) after 10 seconds...\n",
      "Error at index 680: 429 Resource has been exhausted (e.g. check quota).\n",
      "Failed question is :  How soon can I apply for OPT before I graduate?\n",
      "Retrying (1/3) after 10 seconds...\n",
      "Saving rows 650 to 699\n",
      "Error at index 702: 429 Resource has been exhausted (e.g. check quota).\n",
      "Failed question is :  What if my program completion date changes after I've already applied for OPT? What should I do?\n",
      "Retrying (1/3) after 10 seconds...\n",
      "Error at index 713: 429 Resource has been exhausted (e.g. check quota).\n",
      "Failed question is :  What is Curricular Practical Training (CPT)?\n",
      "Retrying (1/3) after 10 seconds...\n",
      "Error at index 734: 429 Resource has been exhausted (e.g. check quota).\n",
      "Failed question is :  What is economic hardship employment?\n",
      "Retrying (1/3) after 10 seconds...\n",
      "Error at index 734: 429 Resource has been exhausted (e.g. check quota).\n",
      "Failed question is :  What is economic hardship employment?\n",
      "Retrying (2/3) after 10 seconds...\n",
      "Saving rows 700 to 749\n",
      "Error at index 767: 429 Resource has been exhausted (e.g. check quota).\n",
      "Failed question is :  Can I travel internationally while on OPT?\n",
      "Retrying (1/3) after 10 seconds...\n",
      "Error at index 778: 429 Resource has been exhausted (e.g. check quota).\n",
      "Failed question is :  What is an internship requirement for graduate students?\n",
      "Retrying (1/3) after 10 seconds...\n",
      "Saving rows 750 to 799\n",
      "Error at index 811: 429 Resource has been exhausted (e.g. check quota).\n",
      "Failed question is :  Will traveling to the U.S. on a tourist visa multiple times help my F1 application?\n",
      "Retrying (1/3) after 10 seconds...\n",
      "Error at index 822: 429 Resource has been exhausted (e.g. check quota).\n",
      "Failed question is :  Can I apply for in-state tuition as an F1 student?\n",
      "Retrying (1/3) after 10 seconds...\n",
      "Saving rows 800 to 849\n",
      "Saving rows 850 to 899\n",
      "Error at index 927: 429 Resource has been exhausted (e.g. check quota).\n",
      "Failed question is :  How do I handle a question about living expenses if I plan to share an apartment?\n",
      "Retrying (1/3) after 10 seconds...\n",
      "Error at index 927: 429 Resource has been exhausted (e.g. check quota).\n",
      "Failed question is :  How do I handle a question about living expenses if I plan to share an apartment?\n",
      "Retrying (2/3) after 10 seconds...\n",
      "Error at index 949: 429 Resource has been exhausted (e.g. check quota).\n",
      "Failed question is :  Are there any interview preparation courses I can take?\n",
      "Retrying (1/3) after 10 seconds...\n",
      "Saving rows 900 to 949\n",
      "Error at index 960: 429 Resource has been exhausted (e.g. check quota).\n",
      "Failed question is :  My passport is expiring in 3 months but my country's embassy is far away and renewal takes time. Can I still apply for OPT now or should I renew my passport first?\n",
      "Retrying (1/3) after 10 seconds...\n",
      "Error at index 982: 429 Resource has been exhausted (e.g. check quota).\n",
      "Failed question is :  What documents are required for CPT?\n",
      "Retrying (1/3) after 10 seconds...\n",
      "Saving rows 950 to 999\n"
     ]
    }
   ],
   "source": [
    "import pandas as pd\n",
    "import time\n",
    "import os\n",
    "\n",
    "dataset_improver = DatasetAnsImprover()\n",
    "output_file = '../dataset/cleaned_dataset_answer_improved.csv'\n",
    "processed_rows = []\n",
    "max_retries = 3  # Maximum number of retries for a failed question\n",
    "\n",
    "for index, row in raw_dataset.iterrows():\n",
    "    retries = 0\n",
    "    while retries < max_retries:\n",
    "        try:\n",
    "            # improve_answer might fail as it makes a call to GEMINI API\n",
    "            improved_answer = dataset_improver.improve_answer(row['Question'], row['Answer'])\n",
    "            time.sleep(3)  # Sleep to avoid rate limiting\n",
    "            if index % 15 == 0:\n",
    "                time.sleep(10)  # Additional sleep for every 15th row\n",
    "            \n",
    "            # Create a new row with the improved answer\n",
    "            new_row = row.to_dict()\n",
    "            new_row['Answer'] = improved_answer\n",
    "            processed_rows.append(new_row)\n",
    "            \n",
    "            # Save every 50 rows\n",
    "            if len(processed_rows) == 50:\n",
    "                print(f\"Saving rows {index-49} to {index}\")\n",
    "                df_to_save = pd.DataFrame(processed_rows)\n",
    "                # Check if the file exists to decide on writing the header\n",
    "                header = not os.path.exists(output_file)\n",
    "                df_to_save.to_csv(output_file, mode='a', header=header, index=False)\n",
    "                processed_rows = []  # Reset the list\n",
    "            \n",
    "            break  # Exit the retry loop if successful\n",
    "        \n",
    "        except Exception as e:\n",
    "            print(f\"Error at index {index}: {e}\")\n",
    "            print(\"Failed question is : \", row['Question'])\n",
    "            retries += 1\n",
    "            if retries < max_retries:\n",
    "                print(f\"Retrying ({retries}/{max_retries}) after 10 seconds...\")\n",
    "                time.sleep(10)  # Wait before retrying\n",
    "            else:\n",
    "                print(f\"Max retries reached for index {index}. Skipping this question.\")\n",
    "                break  # Exit the retry loop after max retries\n",
    "\n",
    "# Save any remaining rows after the loop\n",
    "if processed_rows:\n",
    "    df_to_save = pd.DataFrame(processed_rows)\n",
    "    header = not os.path.exists(output_file)\n",
    "    df_to_save.to_csv(output_file, mode='a', header=header, index=False)"
   ]
  },
  {
   "cell_type": "code",
   "execution_count": 8,
   "metadata": {},
   "outputs": [
    {
     "data": {
      "text/plain": [
       "(1000, 2)"
      ]
     },
     "execution_count": 8,
     "metadata": {},
     "output_type": "execute_result"
    }
   ],
   "source": [
    "result = pd.read_csv(output_file)\n",
    "result.shape"
   ]
  },
  {
   "cell_type": "code",
   "execution_count": null,
   "metadata": {},
   "outputs": [],
   "source": []
  }
 ],
 "metadata": {
  "kernelspec": {
   "display_name": "base",
   "language": "python",
   "name": "python3"
  },
  "language_info": {
   "codemirror_mode": {
    "name": "ipython",
    "version": 3
   },
   "file_extension": ".py",
   "mimetype": "text/x-python",
   "name": "python",
   "nbconvert_exporter": "python",
   "pygments_lexer": "ipython3",
   "version": "3.11.5"
  }
 },
 "nbformat": 4,
 "nbformat_minor": 2
}
