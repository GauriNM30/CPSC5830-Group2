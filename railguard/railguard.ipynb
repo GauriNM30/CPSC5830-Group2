{
 "cells": [
  {
   "cell_type": "code",
   "execution_count": 9,
   "metadata": {},
   "outputs": [],
   "source": [
    "# Import libraries\n",
    "import google.generativeai as genai\n",
    "import dotenv\n",
    "import os\n",
    "dotenv.load_dotenv()"
   ]
  },
  {
   "cell_type": "code",
   "execution_count": 10,
   "metadata": {},
   "outputs": [],
   "source": [
    "class Railguard:\n",
    "    def __init__(self) -> None:\n",
    "        api_key = os.getenv(\"GOOGLE_API_KEY\")\n",
    "        model_name = 'gemini-2.0-flash-exp'\n",
    "        genai.configure(api_key=api_key)\n",
    "        railguard_prompt = \"\"\"\n",
    "                            You are a railguard meant to judge if the user question is related to Law or not. Particularly if it is related to rules or regulations or if the question asks anything related to laws or rules or instruction related to international students studying in the United States on an F1 Visa. \n",
    "                            If the question is related, reply True; else, reply False.\n",
    "                            \"\"\"\n",
    "        self.chat_model = genai.GenerativeModel(model_name, system_instruction=railguard_prompt)\n",
    "\n",
    "    def railguard(self, question: str) -> bool:\n",
    "        response = self.chat_model.generate_content(question)\n",
    "        return response.text.strip().lower() == \"true\"\n"
   ]
  },
  {
   "cell_type": "code",
   "execution_count": 15,
   "metadata": {},
   "outputs": [
    {
     "name": "stdout",
     "output_type": "stream",
     "text": [
      "How do I apply for CPT?  :  True\n",
      "What documents are required for CPT?  :  True\n",
      "How long does CPT processing take?  :  True\n",
      "Can I work before receiving CPT authorization?  :  True\n",
      "Do I need to pay any fees for CPT?  :  True\n",
      "How do I apply for OPT?  :  True\n",
      "When can I apply for OPT?  :  True\n",
      "What documents are required for OPT?  :  True\n",
      "How long does OPT processing take?  :  True\n"
     ]
    }
   ],
   "source": [
    "# Test the code\n",
    "import time\n",
    "if __name__ == \"__main__\":\n",
    "    railguard = Railguard()\n",
    "    questions = [\n",
    "    \"How do I apply for CPT?\",\n",
    "    \"What documents are required for CPT?\",\n",
    "    \"How long does CPT processing take?\",\n",
    "    \"Can I work before receiving CPT authorization?\",\n",
    "    \"Do I need to pay any fees for CPT?\",\n",
    "    \"How do I apply for OPT?\",\n",
    "    \"When can I apply for OPT?\",\n",
    "    \"What documents are required for OPT?\",\n",
    "    \"How long does OPT processing take?\"\n",
    "]\n",
    "    for question in questions:\n",
    "        time.sleep(2)\n",
    "        print(question, \" : \",railguard.railguard(question))"
   ]
  }
 ],
 "metadata": {
  "kernelspec": {
   "display_name": "base",
   "language": "python",
   "name": "python3"
  },
  "language_info": {
   "codemirror_mode": {
    "name": "ipython",
    "version": 3
   },
   "file_extension": ".py",
   "mimetype": "text/x-python",
   "name": "python",
   "nbconvert_exporter": "python",
   "pygments_lexer": "ipython3",
   "version": "3.11.5"
  }
 },
 "nbformat": 4,
 "nbformat_minor": 2
}
