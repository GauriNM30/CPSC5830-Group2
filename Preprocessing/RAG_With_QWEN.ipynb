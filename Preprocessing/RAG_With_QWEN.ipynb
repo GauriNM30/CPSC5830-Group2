{
 "cells": [
  {
   "cell_type": "code",
   "execution_count": null,
   "metadata": {},
   "outputs": [],
   "source": [
    "! pip install -U \"huggingface_hub[cli]\" -q\n",
    "! pip install torch -q\n",
    "! pip install transformers_stream_generator einops tiktoken pinecone -q"
   ]
  },
  {
   "cell_type": "code",
   "execution_count": null,
   "metadata": {},
   "outputs": [],
   "source": [
    "! pip install dotenv -q"
   ]
  },
  {
   "cell_type": "code",
   "execution_count": null,
   "metadata": {},
   "outputs": [],
   "source": [
    "! pip install sentence_transformers -q"
   ]
  },
  {
   "cell_type": "code",
   "execution_count": null,
   "metadata": {},
   "outputs": [],
   "source": [
    "import os\n",
    "import torch\n",
    "from transformers import pipeline\n",
    "from dotenv import load_dotenv\n",
    "from sentence_transformers import SentenceTransformer\n",
    "from pinecone import Pinecone, ServerlessSpec"
   ]
  },
  {
   "cell_type": "markdown",
   "metadata": {},
   "source": [
    "# Class for query pinecone and answer generation"
   ]
  },
  {
   "cell_type": "code",
   "execution_count": 1,
   "metadata": {},
   "outputs": [],
   "source": [
    "class RAG:\n",
    "    def __init__(self):\n",
    "        # Initialize the device and model pipeline\n",
    "        self.device = self.get_device()\n",
    "        self.pipe = self.initialize_model()\n",
    "        self.index = self.initialize_pinecone()\n",
    "        self.embedding_model = self.initialize_embedding_model()\n",
    "\n",
    "    # Function to get the best available device\n",
    "    def get_device(self):\n",
    "        if torch.cuda.is_available():\n",
    "            try:\n",
    "                torch.cuda.empty_cache()  # Clear unused memory\n",
    "                return torch.device(\"cuda\")\n",
    "            except RuntimeError:\n",
    "                print(\"GPU out of memory. Falling back to CPU.\")\n",
    "        return torch.device(\"cpu\")\n",
    "\n",
    "    # Try initializing the model on GPU first, fallback to CPU if OOM error occurs\n",
    "    def initialize_model(self):\n",
    "        try:\n",
    "            pipe = pipeline(\n",
    "                \"text-generation\",\n",
    "                model=\"Qwen/Qwen2-7B-Instruct\",\n",
    "                device=0 if self.device.type == \"cuda\" else -1\n",
    "            )\n",
    "            print(f\"Using device: {self.device}\")\n",
    "            return pipe\n",
    "        except RuntimeError as e:\n",
    "            if \"out of memory\" in str(e).lower():\n",
    "                print(\"GPU ran out of memory. Clearing memory and retrying...\")\n",
    "                torch.cuda.empty_cache()\n",
    "                import gc\n",
    "                gc.collect()\n",
    "\n",
    "                # Try again on GPU\n",
    "                try:\n",
    "                    pipe = pipeline(\n",
    "                        \"text-generation\",\n",
    "                        model=\"Qwen/Qwen2-7B-Instruct\",\n",
    "                        device=0\n",
    "                    )\n",
    "                    print(\"Retrying on GPU succeeded.\")\n",
    "                    return pipe\n",
    "                except RuntimeError as e:\n",
    "                    print(\"GPU still has OOM error. Switching to CPU.\")\n",
    "                    self.device = torch.device(\"cpu\")\n",
    "                    return pipeline(\"text-generation\", model=\"Qwen/Qwen2-7B-Instruct\", device=-1)\n",
    "            else:\n",
    "                raise e\n",
    "\n",
    "\n",
    "    # Method to get the API key from the .env file\n",
    "    def get_api_key(self, api_name):\n",
    "        env_path = \"../.dummy_env\"  # Adjust the path as needed\n",
    "        load_dotenv(env_path)  # Load the environment variables\n",
    "        return os.getenv(api_name)\n",
    "\n",
    "    # Initialize Pinecone and return the index\n",
    "    def initialize_pinecone(self):\n",
    "        # Access the Pinecone API key\n",
    "        pinecone_api_key = self.get_api_key(\"PINECONE_API_KEY\")\n",
    "        pinecone = Pinecone(api_key=pinecone_api_key)\n",
    "        index_name = \"recursive-text-chunks\"\n",
    "        index = pinecone.Index(index_name)\n",
    "        return index\n",
    "\n",
    "    # Initialize the embedding model\n",
    "    def initialize_embedding_model(self):\n",
    "        return SentenceTransformer(\"all-MiniLM-L6-v2\")\n",
    "\n",
    "    # Query Pinecone\n",
    "    def query_pinecone(self, query_text, top_k=5):\n",
    "        # Check if the embedding model and index are initialized\n",
    "        if not hasattr(self, 'embedding_model') or not hasattr(self, 'index'):\n",
    "            raise ValueError(\"Embedding model and index must be defined before running the function.\")\n",
    "\n",
    "        # Query Pinecone to get relevant chunks\n",
    "        query_embedding = self.embedding_model.encode(query_text).tolist()\n",
    "        return self.index.query(vector=query_embedding, top_k=top_k, include_metadata=True)\n",
    "\n",
    "    # Generate answer\n",
    "    def generate_answer(self, query_text):\n",
    "        # Query Pinecone for relevant context\n",
    "        results = self.query_pinecone(query_text)\n",
    "\n",
    "        # Concatenate the top results into a context for the Llama model\n",
    "        context = \"\\n\".join([match['metadata']['text'] for match in results.get(\"matches\", [])])\n",
    "\n",
    "        # Read the reasoning prompt from file\n",
    "        with open(\"prompt.txt\", \"r\") as f:\n",
    "            reasoning_prompt = f.read().strip()\n",
    "\n",
    "        # Construct the prompt\n",
    "        prompt = (\n",
    "            f\"{reasoning_prompt}\\n\\n\"\n",
    "            \"Context:\\n\"\n",
    "            f\"{context}\\n\\n\"\n",
    "            f\"Question: {query_text}\\n\"\n",
    "        )\n",
    "\n",
    "        # Use the pipeline to generate the answer\n",
    "        generated = self.pipe(\n",
    "            prompt,\n",
    "            max_new_tokens=50,\n",
    "            num_return_sequences=1,\n",
    "            temperature=0.7,\n",
    "            top_p=0.9\n",
    "        )\n",
    "\n",
    "        # Extract the generated answer\n",
    "        full_generated_text = generated[0]['generated_text']\n",
    "        final_answer = full_generated_text[len(prompt):].strip()\n",
    "        \n",
    "        return final_answer\n"
   ]
  },
  {
   "cell_type": "code",
   "execution_count": null,
   "metadata": {},
   "outputs": [
    {
     "name": "stderr",
     "output_type": "stream",
     "text": [
      "Sliding Window Attention is enabled but not implemented for `sdpa`; unexpected results may be encountered.\n"
     ]
    },
    {
     "data": {
      "application/vnd.jupyter.widget-view+json": {
       "model_id": "20c2aa7496b44a728926ac5537b2c29e",
       "version_major": 2,
       "version_minor": 0
      },
      "text/plain": [
       "Loading checkpoint shards:   0%|          | 0/4 [00:00<?, ?it/s]"
      ]
     },
     "metadata": {},
     "output_type": "display_data"
    },
    {
     "name": "stderr",
     "output_type": "stream",
     "text": [
      "Device set to use cuda:0\n"
     ]
    },
    {
     "name": "stdout",
     "output_type": "stream",
     "text": [
      "GPU ran out of memory. Clearing memory and retrying...\n"
     ]
    },
    {
     "data": {
      "application/vnd.jupyter.widget-view+json": {
       "model_id": "fb761349ac254e2f8929574db60e5aa0",
       "version_major": 2,
       "version_minor": 0
      },
      "text/plain": [
       "Loading checkpoint shards:   0%|          | 0/4 [00:00<?, ?it/s]"
      ]
     },
     "metadata": {},
     "output_type": "display_data"
    },
    {
     "name": "stderr",
     "output_type": "stream",
     "text": [
      "Device set to use cuda:0\n"
     ]
    },
    {
     "name": "stdout",
     "output_type": "stream",
     "text": [
      "GPU still has OOM error. Switching to CPU.\n"
     ]
    },
    {
     "data": {
      "application/vnd.jupyter.widget-view+json": {
       "model_id": "254c7c79a3114f4782cd56101d83c179",
       "version_major": 2,
       "version_minor": 0
      },
      "text/plain": [
       "Loading checkpoint shards:   0%|          | 0/4 [00:00<?, ?it/s]"
      ]
     },
     "metadata": {},
     "output_type": "display_data"
    }
   ],
   "source": [
    "# Example usage\n",
    "rag_obj = RAG()\n",
    "\n",
    "# Example query related to F-1 OPT and CPT\n",
    "query_text = \"What is the eligibility criteria for F-1 OPT?\"\n",
    "answer = rag_obj.generate_answer(query_text)\n",
    "print(answer)"
   ]
  },
  {
   "cell_type": "markdown",
   "metadata": {},
   "source": [
    "#### Answer obtained with above code: \n",
    "Using device: cuda\n",
    "\n",
    "Answer: An F-1 student who has attended an SEVP-certified college, university, conservatory, or seminary on a full-time basis for at least one academic year may be authorized for up to 12 months of OPT per education"
   ]
  },
  {
   "cell_type": "code",
   "execution_count": null,
   "metadata": {},
   "outputs": [],
   "source": []
  },
  {
   "cell_type": "code",
   "execution_count": null,
   "metadata": {},
   "outputs": [],
   "source": []
  }
 ],
 "metadata": {
  "kernelspec": {
   "display_name": "Python 3 (ipykernel)",
   "language": "python",
   "name": "python3"
  },
  "language_info": {
   "codemirror_mode": {
    "name": "ipython",
    "version": 3
   },
   "file_extension": ".py",
   "mimetype": "text/x-python",
   "name": "python",
   "nbconvert_exporter": "python",
   "pygments_lexer": "ipython3",
   "version": "3.9.13"
  }
 },
 "nbformat": 4,
 "nbformat_minor": 2
}
