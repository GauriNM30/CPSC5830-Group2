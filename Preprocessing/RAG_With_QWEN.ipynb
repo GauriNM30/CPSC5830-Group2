{
 "cells": [
  {
   "cell_type": "code",
   "execution_count": null,
   "metadata": {},
   "outputs": [],
   "source": [
    "! pip install -U \"huggingface_hub[cli]\" -q\n",
    "! pip install torch -q\n",
    "! pip install transformers_stream_generator einops tiktoken pinecone -q"
   ]
  },
  {
   "cell_type": "code",
   "execution_count": null,
   "metadata": {},
   "outputs": [],
   "source": [
    "! pip install dotenv -q"
   ]
  },
  {
   "cell_type": "code",
   "execution_count": null,
   "metadata": {},
   "outputs": [],
   "source": [
    "! pip install sentence_transformers -q"
   ]
  },
  {
   "cell_type": "code",
   "execution_count": null,
   "metadata": {},
   "outputs": [],
   "source": [
    "import os\n",
    "from dotenv import load_dotenv\n",
    "\n",
    "def get_api_key(api_name):\n",
    "    # Specify the path to your dummy.env file\n",
    "    env_path = \"../.dummy_env\"  # Adjust the path as needed\n",
    "    # Load the environment variables\n",
    "    load_dotenv(env_path)\n",
    "    return os.getenv(api_name)\n",
    "\n",
    "\n",
    "# Access the Pinecone API key\n",
    "pinecone_api_key = get_api_key(\"PINECONE_API_KEY\")"
   ]
  },
  {
   "cell_type": "code",
   "execution_count": null,
   "metadata": {},
   "outputs": [],
   "source": [
    "huggingface_token = get_api_key(\"HUGGINGFACE_API_KEY\")\n",
    "!huggingface-cli login --token huggingface_token #HUGGINGFACE_API_KEY"
   ]
  },
  {
   "cell_type": "code",
   "execution_count": null,
   "metadata": {},
   "outputs": [],
   "source": [
    "from pinecone import Pinecone, ServerlessSpec\n",
    "from sentence_transformers import SentenceTransformer\n",
    "import time\n",
    "\n",
    "# Initialize Pinecone and embedding model\n",
    "def initialize_pinecone():\n",
    "    # Access the Pinecone API key\n",
    "    pinecone_api_key = get_api_key(\"PINECONE_API_KEY\")\n",
    "    pinecone = Pinecone(api_key=pinecone_api_key)\n",
    "    index_name = \"recursive-text-chunks\"\n",
    "    index = pinecone.Index(index_name)\n",
    "    return index\n",
    "\n",
    "index = initialize_pinecone()\n",
    "\n",
    "def initialize_embedding_model():\n",
    "    return SentenceTransformer(\"all-MiniLM-L6-v2\")\n",
    "\n",
    "embedding_model = initialize_embedding_model()"
   ]
  },
  {
   "cell_type": "code",
   "execution_count": null,
   "metadata": {},
   "outputs": [],
   "source": [
    "import os\n",
    "import torch\n",
    "from transformers import pipeline\n",
    "from dotenv import load_dotenv\n",
    "from sentence_transformers import SentenceTransformer\n",
    "from pinecone import Pinecone, ServerlessSpec"
   ]
  },
  {
   "cell_type": "markdown",
   "metadata": {},
   "source": [
    "# Class for query pinecone and answer generation"
   ]
  },
  {
   "cell_type": "code",
   "execution_count": 1,
   "metadata": {},
   "outputs": [],
   "source": [
    "import os\n",
    "import torch\n",
    "from transformers import pipeline\n",
    "from dotenv import load_dotenv\n",
    "from sentence_transformers import SentenceTransformer\n",
    "from pinecone import Pinecone, ServerlessSpec\n",
    "\n",
    "\n",
    "class RAG:\n",
    "    def __init__(self):\n",
    "        # Initialize the device and model pipeline\n",
    "        self.device = self.get_device()\n",
    "        self.pipe = self.initialize_model()\n",
    "        self.index = self.initialize_pinecone()\n",
    "        self.embedding_model = self.initialize_embedding_model()\n",
    "\n",
    "    # Function to get the best available device\n",
    "    def get_device(self):\n",
    "        if torch.cuda.is_available():\n",
    "            try:\n",
    "                torch.cuda.empty_cache()  # Clear unused memory\n",
    "                return torch.device(\"cuda\")\n",
    "            except RuntimeError:\n",
    "                print(\"GPU out of memory. Falling back to CPU.\")\n",
    "        return torch.device(\"cpu\")\n",
    "\n",
    "    # Try initializing the model on GPU first, fallback to CPU if OOM error occurs\n",
    "    def initialize_model(self):\n",
    "        try:\n",
    "            pipe = pipeline(\n",
    "                \"text-generation\",\n",
    "                model=\"Qwen/Qwen2-7B-Instruct\",\n",
    "                device=0 if self.device.type == \"cuda\" else -1\n",
    "            )\n",
    "            print(f\"Using device: {self.device}\")\n",
    "            return pipe\n",
    "        except RuntimeError as e:\n",
    "            if \"out of memory\" in str(e).lower():\n",
    "                print(\"GPU ran out of memory. Clearing memory and retrying...\")\n",
    "                torch.cuda.empty_cache()\n",
    "                import gc\n",
    "                gc.collect()\n",
    "\n",
    "                # Try again on GPU\n",
    "                try:\n",
    "                    pipe = pipeline(\n",
    "                        \"text-generation\",\n",
    "                        model=\"Qwen/Qwen2-7B-Instruct\",\n",
    "                        device=0\n",
    "                    )\n",
    "                    print(\"Retrying on GPU succeeded.\")\n",
    "                    return pipe\n",
    "                except RuntimeError as e:\n",
    "                    print(\"GPU still has OOM error. Switching to CPU.\")\n",
    "                    self.device = torch.device(\"cpu\")\n",
    "                    return pipeline(\"text-generation\", model=\"Qwen/Qwen2-7B-Instruct\", device=-1)\n",
    "            else:\n",
    "                raise e\n",
    "\n",
    "\n",
    "    # Method to get the API key from the .env file\n",
    "    def get_api_key(self, api_name):\n",
    "        env_path = \"../.dummy_env\"  # Adjust the path as needed\n",
    "        load_dotenv(env_path)  # Load the environment variables\n",
    "        return os.getenv(api_name)\n",
    "\n",
    "    # Initialize Pinecone and return the index\n",
    "    def initialize_pinecone(self):\n",
    "        # Access the Pinecone API key\n",
    "        pinecone_api_key = self.get_api_key(\"PINECONE_API_KEY\")\n",
    "        pinecone = Pinecone(api_key=pinecone_api_key)\n",
    "        index_name = \"recursive-text-chunks\"\n",
    "        index = pinecone.Index(index_name)\n",
    "        return index\n",
    "\n",
    "    # Initialize the embedding model\n",
    "    def initialize_embedding_model(self):\n",
    "        return SentenceTransformer(\"all-MiniLM-L6-v2\")\n",
    "\n",
    "    # Query Pinecone\n",
    "    def query_pinecone(self, query_text, top_k=5):\n",
    "        # Check if the embedding model and index are initialized\n",
    "        if not hasattr(self, 'embedding_model') or not hasattr(self, 'index'):\n",
    "            raise ValueError(\"Embedding model and index must be defined before running the function.\")\n",
    "\n",
    "        # Query Pinecone to get relevant chunks\n",
    "        query_embedding = self.embedding_model.encode(query_text).tolist()\n",
    "        return self.index.query(vector=query_embedding, top_k=top_k, include_metadata=True)\n",
    "\n",
    "    # Generate answer\n",
    "    def generate_answer(self, query_text):\n",
    "        # Query Pinecone for relevant context\n",
    "        results = self.query_pinecone(query_text)\n",
    "\n",
    "        # Concatenate the top results into a context for the Llama model\n",
    "        context = \"\\n\".join([match['metadata']['text'] for match in results.get(\"matches\", [])])\n",
    "\n",
    "        # Read the reasoning prompt from file\n",
    "        with open(\"prompt.txt\", \"r\") as f:\n",
    "            reasoning_prompt = f.read().strip()\n",
    "\n",
    "        # Construct the prompt\n",
    "        prompt = (\n",
    "            f\"{reasoning_prompt}\\n\\n\"\n",
    "            \"Context:\\n\"\n",
    "            f\"{context}\\n\\n\"\n",
    "            f\"Question: {query_text}\\n\"\n",
    "        )\n",
    "\n",
    "        # Use the pipeline to generate the answer\n",
    "        generated = self.pipe(\n",
    "            prompt,\n",
    "            max_new_tokens=50,\n",
    "            num_return_sequences=1,\n",
    "            temperature=0.7,\n",
    "            top_p=0.9\n",
    "        )\n",
    "\n",
    "        # Extract the generated answer\n",
    "        full_generated_text = generated[0]['generated_text']\n",
    "        final_answer = full_generated_text[len(prompt):].strip()\n",
    "        \n",
    "        return final_answer\n"
   ]
  },
  {
   "cell_type": "code",
   "execution_count": null,
   "metadata": {},
   "outputs": [
    {
     "name": "stderr",
     "output_type": "stream",
     "text": [
      "Sliding Window Attention is enabled but not implemented for `sdpa`; unexpected results may be encountered.\n"
     ]
    },
    {
     "data": {
      "application/vnd.jupyter.widget-view+json": {
       "model_id": "20c2aa7496b44a728926ac5537b2c29e",
       "version_major": 2,
       "version_minor": 0
      },
      "text/plain": [
       "Loading checkpoint shards:   0%|          | 0/4 [00:00<?, ?it/s]"
      ]
     },
     "metadata": {},
     "output_type": "display_data"
    },
    {
     "name": "stderr",
     "output_type": "stream",
     "text": [
      "Device set to use cuda:0\n"
     ]
    },
    {
     "name": "stdout",
     "output_type": "stream",
     "text": [
      "GPU ran out of memory. Clearing memory and retrying...\n"
     ]
    },
    {
     "data": {
      "application/vnd.jupyter.widget-view+json": {
       "model_id": "fb761349ac254e2f8929574db60e5aa0",
       "version_major": 2,
       "version_minor": 0
      },
      "text/plain": [
       "Loading checkpoint shards:   0%|          | 0/4 [00:00<?, ?it/s]"
      ]
     },
     "metadata": {},
     "output_type": "display_data"
    },
    {
     "name": "stderr",
     "output_type": "stream",
     "text": [
      "Device set to use cuda:0\n"
     ]
    },
    {
     "name": "stdout",
     "output_type": "stream",
     "text": [
      "GPU still has OOM error. Switching to CPU.\n"
     ]
    },
    {
     "data": {
      "application/vnd.jupyter.widget-view+json": {
       "model_id": "254c7c79a3114f4782cd56101d83c179",
       "version_major": 2,
       "version_minor": 0
      },
      "text/plain": [
       "Loading checkpoint shards:   0%|          | 0/4 [00:00<?, ?it/s]"
      ]
     },
     "metadata": {},
     "output_type": "display_data"
    }
   ],
   "source": [
    "# Example usage\n",
    "rag_obj = RAG()\n",
    "\n",
    "# Example query related to F-1 OPT and CPT\n",
    "query_text = \"What is the eligibility criteria for F-1 OPT?\"\n",
    "answer = rag_obj.generate_answer(query_text)\n",
    "print(answer)"
   ]
  },
  {
   "cell_type": "markdown",
   "metadata": {},
   "source": [
    "#### Answer obtained with above code: \n",
    "Using device: cuda\n",
    "\n",
    "Answer: An F-1 student who has attended an SEVP-certified college, university, conservatory, or seminary on a full-time basis for at least one academic year may be authorized for up to 12 months of OPT per education"
   ]
  },
  {
   "cell_type": "code",
   "execution_count": null,
   "metadata": {},
   "outputs": [],
   "source": []
  },
  {
   "cell_type": "code",
   "execution_count": null,
   "metadata": {},
   "outputs": [],
   "source": []
  },
  {
   "cell_type": "code",
   "execution_count": null,
   "metadata": {},
   "outputs": [],
   "source": []
  },
  {
   "cell_type": "code",
   "execution_count": null,
   "metadata": {},
   "outputs": [],
   "source": []
  },
  {
   "cell_type": "code",
   "execution_count": null,
   "metadata": {},
   "outputs": [],
   "source": []
  },
  {
   "cell_type": "code",
   "execution_count": null,
   "metadata": {},
   "outputs": [],
   "source": []
  },
  {
   "cell_type": "code",
   "execution_count": null,
   "metadata": {},
   "outputs": [],
   "source": []
  },
  {
   "cell_type": "code",
   "execution_count": null,
   "metadata": {},
   "outputs": [],
   "source": [
    "import torch\n",
    "from transformers import pipeline\n",
    "\n",
    "# Function to get the best available device\n",
    "def get_device():\n",
    "    if torch.cuda.is_available():\n",
    "        try:\n",
    "            torch.cuda.empty_cache()  # Clear unused memory\n",
    "            return torch.device(\"cuda\")\n",
    "        except RuntimeError:\n",
    "            print(\"GPU out of memory. Falling back to CPU.\")\n",
    "    return torch.device(\"cpu\")\n",
    "\n",
    "device = get_device()\n",
    "\n",
    "# Try initializing the model on GPU first, fallback to CPU if OOM error occurs\n",
    "try:\n",
    "    pipe = pipeline(\n",
    "        \"text-generation\",\n",
    "        model=\"Qwen/Qwen2-7B-Instruct\",\n",
    "        device=0 if device.type == \"cuda\" else -1  # 0 for GPU, -1 for CPU\n",
    "    )\n",
    "    print(f\"Using device: {device}\")\n",
    "except RuntimeError as e:\n",
    "    if \"out of memory\" in str(e).lower():\n",
    "        print(\"GPU ran out of memory. Switching to CPU.\")\n",
    "        pipe = pipeline(\"text-generation\", model=\"Qwen/Qwen2-7B-Instruct\", device=-1)\n",
    "    else:\n",
    "        raise e"
   ]
  },
  {
   "cell_type": "code",
   "execution_count": null,
   "metadata": {},
   "outputs": [],
   "source": [
    "class RAG:\n",
    "    #query pinecone\n",
    "    def query_pinecone(self, query_text,top_k=5):\n",
    "        global embedding_model, index\n",
    "        if 'embedding_model' not in globals() or 'index' not in globals():\n",
    "            raise ValueError(\"Embedding model and index must be defined before running the function.\")\n",
    "\n",
    "        # Query Pinecone to get relevant chunks\n",
    "        query_embedding = embedding_model.encode(query_text).tolist()\n",
    "        return index.query(vector=query_embedding, top_k=top_k, include_metadata=True)\n",
    "\n",
    "    #Generate answer\n",
    "    def generate_answer(self, query_text):\n",
    "        results = self.query_pinecone(query_text)\n",
    "\n",
    "        # Concatenate the top results into a context for the Llama model\n",
    "        context = \"\\n\".join([match['metadata']['text'] for match in results.get(\"matches\", [])])\n",
    "\n",
    "        # Read the reasoning prompt from file (make sure prompt.txt does not include extra Q&A instructions)\n",
    "        with open(\"prompt.txt\", \"r\") as f:\n",
    "            reasoning_prompt = f.read().strip()\n",
    "        \n",
    "        # Construct the prompt with a clear instruction to output only one answer\n",
    "        prompt = (\n",
    "            f\"{reasoning_prompt}\\n\\n\"\n",
    "            \"Context:\\n\"\n",
    "            f\"{context}\\n\\n\"\n",
    "            f\"Question: {query_text}\\n\"\n",
    "            #\"Answer (only provide the answer, do not repeat the context):\"\n",
    "        )\n",
    "\n",
    "        #print(\"\\n\\nPrompt:\\n\",prompt)\n",
    "        # Use the pipeline to generate the answer\n",
    "        generated = pipe(\n",
    "            prompt,\n",
    "            max_new_tokens=100,\n",
    "            num_return_sequences=1,\n",
    "            temperature=0.7,\n",
    "            top_p=0.9\n",
    "        )\n",
    "\n",
    "        # Remove the prompt from the generated text to isolate the answer\n",
    "        full_generated_text = generated[0]['generated_text']\n",
    "        final_answer = full_generated_text[len(prompt):].strip()\n",
    "        # print(\"Generated Answer:\", final_answer)\n",
    "        return final_answer"
   ]
  },
  {
   "cell_type": "code",
   "execution_count": null,
   "metadata": {
    "scrolled": true
   },
   "outputs": [],
   "source": [
    "# Example usage\n",
    "rag_obj = RAG()\n",
    "\n",
    "# Example query related to F-1 OPT and CPT\n",
    "query_text = \"What is the eligibility criteria for F-1 OPT?\"\n",
    "answer = rag_obj.generate_answer(query_text)"
   ]
  },
  {
   "cell_type": "code",
   "execution_count": null,
   "metadata": {},
   "outputs": [],
   "source": [
    "print(answer)"
   ]
  },
  {
   "cell_type": "code",
   "execution_count": null,
   "metadata": {},
   "outputs": [],
   "source": []
  },
  {
   "cell_type": "code",
   "execution_count": null,
   "metadata": {},
   "outputs": [],
   "source": []
  },
  {
   "cell_type": "code",
   "execution_count": null,
   "metadata": {},
   "outputs": [],
   "source": []
  },
  {
   "cell_type": "code",
   "execution_count": null,
   "metadata": {},
   "outputs": [],
   "source": []
  },
  {
   "cell_type": "markdown",
   "metadata": {},
   "source": [
    "# Old code"
   ]
  },
  {
   "cell_type": "code",
   "execution_count": null,
   "metadata": {},
   "outputs": [],
   "source": [
    "import torch\n",
    "from transformers import pipeline\n",
    "\n",
    "# Function to get the best available device\n",
    "def get_device():\n",
    "    if torch.cuda.is_available():\n",
    "        try:\n",
    "            torch.cuda.empty_cache()  # Clear unused memory\n",
    "            return torch.device(\"cuda\")\n",
    "        except RuntimeError:\n",
    "            print(\"GPU out of memory. Falling back to CPU.\")\n",
    "    return torch.device(\"cpu\")\n",
    "\n",
    "device = get_device()\n",
    "\n",
    "# Try initializing the model on GPU first, fallback to CPU if OOM error occurs\n",
    "try:\n",
    "    pipe = pipeline(\n",
    "        \"text-generation\",\n",
    "        model=\"Qwen/Qwen2-7B-Instruct\",\n",
    "        device=0 if device.type == \"cuda\" else -1  # 0 for GPU, -1 for CPU\n",
    "    )\n",
    "    print(f\"Using device: {device}\")\n",
    "except RuntimeError as e:\n",
    "    if \"out of memory\" in str(e).lower():\n",
    "        print(\"GPU ran out of memory. Switching to CPU.\")\n",
    "        pipe = pipeline(\"text-generation\", model=\"Qwen/Qwen2-7B-Instruct\", device=-1)\n",
    "    else:\n",
    "        raise e\n",
    "\n",
    "#query pinecone\n",
    "def query_pinecone():\n",
    "    global embedding_model, index\n",
    "    if 'embedding_model' not in globals() or 'index' not in globals():\n",
    "        raise ValueError(\"Embedding model and index must be defined before running the function.\")\n",
    "\n",
    "    # Query Pinecone to get relevant chunks\n",
    "    query_embedding = embedding_model.encode(query_text).tolist()\n",
    "    return index.query(vector=query_embedding, top_k=top_k, include_metadata=True)\n",
    "\n",
    "def generate_answer():\n",
    "    results = index.query(vector=query_embedding, top_k=top_k, include_metadata=True)\n",
    "\n",
    "    # Concatenate the top results into a context for the Llama model\n",
    "    context = \"\\n\".join([match['metadata']['text'] for match in results.get(\"matches\", [])])\n",
    "\n",
    "    # Read the reasoning prompt from file (make sure prompt.txt does not include extra Q&A instructions)\n",
    "    with open(\"prompt.txt\", \"r\") as f:\n",
    "        reasoning_prompt = f.read().strip()\n",
    "    \n",
    "    # Construct the prompt with a clear instruction to output only one answer\n",
    "    prompt = (\n",
    "        f\"{reasoning_prompt}\\n\\n\"\n",
    "        \"Context:\\n\"\n",
    "        f\"{context}\\n\\n\"\n",
    "        f\"Question: {query_text}\\n\"\n",
    "        #\"Answer (only provide the answer, do not repeat the context):\"\n",
    "    )\n",
    "\n",
    "    #print(\"\\n\\nPrompt:\\n\",prompt)\n",
    "    # Use the pipeline to generate the answer\n",
    "    generated = pipe(\n",
    "        prompt,\n",
    "        max_new_tokens=100,\n",
    "        num_return_sequences=1,\n",
    "        temperature=0.7,\n",
    "        top_p=0.9\n",
    "    )\n",
    "\n",
    "    # Remove the prompt from the generated text to isolate the answer\n",
    "    full_generated_text = generated[0]['generated_text']\n",
    "    final_answer = full_generated_text[len(prompt):].strip()\n",
    "    print(\"Generated Answer:\", final_answer)\n",
    "\n",
    "# Function to query Pinecone and generate an answer with the Llama model\n",
    "def query_pinecone_and_generate_answer(query_text, top_k=5):\n",
    "    global embedding_model, index\n",
    "    if 'embedding_model' not in globals() or 'index' not in globals():\n",
    "        raise ValueError(\"Embedding model and index must be defined before running the function.\")\n",
    "\n",
    "    # Query Pinecone to get relevant chunks\n",
    "    query_embedding = embedding_model.encode(query_text).tolist()\n",
    "    results = index.query(vector=query_embedding, top_k=top_k, include_metadata=True)\n",
    "\n",
    "    # Concatenate the top results into a context for the Llama model\n",
    "    context = \"\\n\".join([match['metadata']['text'] for match in results.get(\"matches\", [])])\n",
    "\n",
    "    # Read the reasoning prompt from file (make sure prompt.txt does not include extra Q&A instructions)\n",
    "    with open(\"prompt.txt\", \"r\") as f:\n",
    "        reasoning_prompt = f.read().strip()\n",
    "    \n",
    "    # Construct the prompt with a clear instruction to output only one answer\n",
    "    prompt = (\n",
    "        f\"{reasoning_prompt}\\n\\n\"\n",
    "        \"Context:\\n\"\n",
    "        f\"{context}\\n\\n\"\n",
    "        f\"Question: {query_text}\\n\"\n",
    "        #\"Answer (only provide the answer, do not repeat the context):\"\n",
    "    )\n",
    "\n",
    "#     print(\"\\n\\nPrompt:\\n\",prompt)\n",
    "    # Use the pipeline to generate the answer\n",
    "    generated = pipe(\n",
    "        prompt,\n",
    "        max_new_tokens=100,\n",
    "        num_return_sequences=1,\n",
    "        temperature=0.7,\n",
    "        top_p=0.9\n",
    "    )\n",
    "\n",
    "    # Remove the prompt from the generated text to isolate the answer\n",
    "    full_generated_text = generated[0]['generated_text']\n",
    "    final_answer = full_generated_text[len(prompt):].strip()\n",
    "    print(\"Generated Answer:\", final_answer)\n",
    "\n",
    "# Example query related to F-1 OPT and CPT\n",
    "# query_text = \"What is the eligibility criteria for F-1 OPT?\"\n",
    "# query_pinecone_and_generate_answer(query_text)\n",
    "\n",
    "\n",
    "# query_text = \"What is the eligibility criteria for H1B?\"\n",
    "# query_pinecone_and_generate_answer(query_text)\n",
    "\n",
    "\n",
    "# query_text = \"Can I work while I'm on F-1 status?\"\n",
    "# query_pinecone_and_generate_answer(query_text)\n",
    "query_text = \"How can I apply for H1B?\"\n",
    "query_pinecone_and_generate_answer(query_text)bb"
   ]
  },
  {
   "cell_type": "markdown",
   "metadata": {},
   "source": [
    "#### 1. query_text = \"What is the eligibility criteria for F-1 OPT?\"\n",
    "Generated Answer: Answer: An F-1 student who has attended an SEVP-certified college, university, conservatory, or seminary on a full-time basis for at least one academic year may be authorized for up to 12 months of OPT per education level. However, F-1 students who have one year or more of full-time curricular practical training are not eligible for OPT for that degree.\n",
    "\n",
    "#### 2. query_text = \"What is the eligibility criteria for H1B?\n",
    "Generated Answer: Answer: I am not authorized to provide advice on that topic. Please seek help from your DSO at Seattle University's International Student Center."
   ]
  },
  {
   "cell_type": "code",
   "execution_count": null,
   "metadata": {},
   "outputs": [],
   "source": [
    "pipe.model.save_pretrained(\"/media/volume/gmhetre/saved_model_qwen\")\n",
    "pipe.tokenizer.save_pretrained(\"/media/volume/gmhetre/saved_model_qwen\")"
   ]
  },
  {
   "cell_type": "markdown",
   "metadata": {},
   "source": [
    "# Test Model"
   ]
  },
  {
   "cell_type": "code",
   "execution_count": null,
   "metadata": {},
   "outputs": [],
   "source": [
    "import torch\n",
    "from transformers import pipeline\n",
    "\n",
    "# Determine the best device\n",
    "device = \"cuda\" if torch.cuda.is_available() else \"cpu\"\n",
    "\n",
    "# Load the saved model and tokenizer from the local directory\n",
    "pipe = pipeline(\n",
    "    \"text-generation\",\n",
    "    model=\"/media/volume/gmhetre/saved_model_qwen\",\n",
    "    tokenizer=\"/media/volume/gmhetre/saved_model_qwen\",\n",
    "    device=0 if device == \"cuda\" else -1\n",
    ")\n",
    "\n",
    "# Now you can use the pipeline to ask questions\n",
    "query_text = \"What is the eligibility criteria for F-1 OPT?\"\n",
    "generated = pipe(query_text, max_new_tokens=100, num_return_sequences=1, temperature=0.7, top_p=0.9)\n",
    "print(\"Generated Answer:\", generated[0]['generated_text'])\n"
   ]
  },
  {
   "cell_type": "code",
   "execution_count": null,
   "metadata": {},
   "outputs": [],
   "source": [
    "# Now you can use the pipeline to ask questions\n",
    "query_text = \"What is the eligibility criteria for H1B?\"\n",
    "generated = pipe(query_text, max_new_tokens=100, num_return_sequences=1, temperature=0.7, top_p=0.9)\n",
    "print(\"Generated Answer:\", generated[0]['generated_text'])"
   ]
  },
  {
   "cell_type": "code",
   "execution_count": null,
   "metadata": {},
   "outputs": [],
   "source": []
  }
 ],
 "metadata": {
  "kernelspec": {
   "display_name": "Python 3 (ipykernel)",
   "language": "python",
   "name": "python3"
  },
  "language_info": {
   "codemirror_mode": {
    "name": "ipython",
    "version": 3
   },
   "file_extension": ".py",
   "mimetype": "text/x-python",
   "name": "python",
   "nbconvert_exporter": "python",
   "pygments_lexer": "ipython3",
   "version": "3.9.13"
  }
 },
 "nbformat": 4,
 "nbformat_minor": 2
}
