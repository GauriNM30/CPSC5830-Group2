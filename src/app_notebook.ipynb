{
 "cells": [
  {
   "cell_type": "code",
   "execution_count": null,
   "metadata": {},
   "outputs": [],
   "source": [
    "from railguard.railguard import *\n",
    "import google.generativeai as genai\n",
    "import dotenv\n",
    "import sys \n",
    "from loguru import logger"
   ]
  },
  {
   "cell_type": "code",
   "execution_count": null,
   "metadata": {},
   "outputs": [],
   "source": [
    "''' \n",
    "logger.trace(\"This is a trace message.\")\n",
    "logger.debug(\"This is a debug message\")\n",
    "logger.info(\"This is an info message.\")\n",
    "logger.success(\"This is a success message.\")\n",
    "logger.warning(\"This is a warning message.\")\n",
    "logger.error(\"This is an error message.\")\n",
    "logger.critical(\"This is a critical message.\")\n",
    "\n",
    "'''"
   ]
  },
  {
   "cell_type": "code",
   "execution_count": null,
   "metadata": {},
   "outputs": [],
   "source": [
    "RAILGUARD_MODEL = 'gemini-2.0-flash-exp'\n",
    "\n",
    "# Save logs to a file at the specified path\n",
    "LOG_FILE_PATH = 'logs/railguard.log'\n"
   ]
  },
  {
   "cell_type": "code",
   "execution_count": null,
   "metadata": {},
   "outputs": [],
   "source": [
    "class ChatBot:\n",
    "    def __init__(self):\n",
    "\n",
    "        # Load environment variables\n",
    "        api_key = os.getenv(\"GOOGLE_API_KEY\")\n",
    "\n",
    "        # Class variables\n",
    "        self.question = ''\n",
    "        self.answer = ''\n",
    "        self.relevant_pineconedata = ''\n",
    "\n",
    "        # Initialize logger \n",
    "        logger.remove()  \n",
    "        logger.add(\n",
    "            \"logs/logfile_{time:YYYY-MM-DD}.log\",  # Daily log file\n",
    "            rotation=\"1 day\",  # Rotate every day\n",
    "            retention=\"7 days\",  # Keep logs for 7 days\n",
    "            compression=\"zip\",  # Compress old logs\n",
    "            enqueue=True  # Ensures thread-safe logging\n",
    "        )\n",
    "        self.logger = logger\n",
    "\n",
    "        # Initialize Model Loader\n",
    "        genai.configure(api_key=api_key)\n",
    "        llm_prompt = \"\"\"\n",
    "        Act as an expert legal assistant with comprehensive knowledge of statutory law and case precedent. \n",
    "        Analyze the following legal question carefully, then answer user questions through rigorous legal reasoning.\"\"\"\n",
    "\n",
    "        self.chat_model = genai.GenerativeModel('gemini-1.5-flash', system_instruction=llm_prompt)\n",
    "        self.logger.info(\"Model loaded successfully.\")\n",
    "\n",
    "        # Initialize RailGuard\n",
    "        self.railguard_obj = RailGuard(model_name=RAILGUARD_MODEL)\n",
    "        self.logger.success(\"RailGuard initialized successfully.\")\n",
    "\n",
    "    def run(self):\n",
    "        while True:\n",
    "            try:\n",
    "                self.question = input(\"Enter your question: \")\n",
    "                if self.question.lower() == 'exit':\n",
    "                    break\n",
    "\n",
    "                self.railguard_eval = self.railguard_obj.railguard_eval(self.question)\n",
    "\n",
    "                self.logger.info(f\"Question: {self.question}\")\n",
    "                self.logger.info(f\"Railguard Evaluation: {self.railguard_eval}\")\n",
    "\n",
    "                if self.railguard_eval:\n",
    "                    # Generate the answer\n",
    "                    response = self.chat_model.generate_content(self.question)\n",
    "                    self.answer = response.text  # Extract the text response\n",
    "\n",
    "                    self.logger.info(f\"Answer: {self.answer}\")\n",
    "                    print(f\"Answer: {self.answer}\")\n",
    "\n",
    "                else:\n",
    "                    self.logger.warning(\"Railguard evaluation failed.\")\n",
    "                    print(\"Railguard evaluation failed. Please ask a question related to F1 visa or student visa only.\")\n",
    "\n",
    "            except Exception as e:\n",
    "                self.logger.error(f\"An error occurred: {e}\")\n",
    "                print(f\"An error occurred: {e}\")\n",
    "\n",
    "\n",
    "# Run the chatbot\n",
    "obj = ChatBot()\n",
    "obj.run()\n"
   ]
  },
  {
   "cell_type": "code",
   "execution_count": null,
   "metadata": {},
   "outputs": [],
   "source": [
    "\" \\n\\n[X] A\\n[X] B\\n[X] C\\n[X]\",\n",
    "\" \\n\\n[X] B\\n[X] C\\n[X] D\\n[X]\",\n",
    "\" [X]  (A)  (B)  (C)\",\n",
    "\" \\n\\n[X]  (A)  (B)  (C)\","
   ]
  }
 ],
 "metadata": {
  "kernelspec": {
   "display_name": "base",
   "language": "python",
   "name": "python3"
  },
  "language_info": {
   "codemirror_mode": {
    "name": "ipython",
    "version": 3
   },
   "file_extension": ".py",
   "mimetype": "text/x-python",
   "name": "python",
   "nbconvert_exporter": "python",
   "pygments_lexer": "ipython3",
   "version": "3.11.5"
  }
 },
 "nbformat": 4,
 "nbformat_minor": 2
}
