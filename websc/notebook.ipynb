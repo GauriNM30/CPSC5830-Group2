{
 "cells": [
  {
   "cell_type": "code",
   "execution_count": 2,
   "metadata": {},
   "outputs": [],
   "source": [
    "import requests\n",
    "from bs4 import BeautifulSoup\n",
    "import pandas as pd\n",
    "from urllib.parse import urljoin, urlparse\n",
    "from collections import deque\n",
    "import os\n",
    "import time\n",
    "\n",
    "def get_domain(url):\n",
    "    \"\"\"Extract domain from URL\"\"\"\n",
    "    parsed = urlparse(url)\n",
    "    return parsed.netloc\n",
    "\n",
    "def sanitize_text(text):\n",
    "    \"\"\"Clean up text by removing extra whitespace but preserving intentional newlines\"\"\"\n",
    "    lines = []\n",
    "    for line in text.splitlines():\n",
    "        stripped_line = ' '.join(line.split())\n",
    "        if stripped_line:  # Skip empty lines\n",
    "            lines.append(stripped_line)\n",
    "    return '\\n'.join(lines)\n",
    "\n",
    "def extract_structured_text(soup):\n",
    "    \"\"\"\n",
    "    Extract text while preserving ordered/unordered lists and their hierarchy.\n",
    "    Args:\n",
    "        soup (BeautifulSoup): Parsed HTML content\n",
    "    Returns:\n",
    "        str: Structured text with lists formatted correctly\n",
    "    \"\"\"\n",
    "    text = []\n",
    "    for element in soup.find_all(['p', 'h1', 'h2', 'h3', 'h4', 'h5', 'h6', 'li', 'br', 'ul', 'ol']):\n",
    "        if element.name in ['h1', 'h2', 'h3', 'h4', 'h5', 'h6']:\n",
    "            heading_text = element.get_text(strip=True)\n",
    "            text.append(f'\\n\\n## {heading_text}\\n\\n')\n",
    "        elif element.name == 'p':\n",
    "            paragraph = element.get_text(separator=' ', strip=True)\n",
    "            text.append(f'{paragraph}\\n\\n')\n",
    "        elif element.name == 'li':\n",
    "            parent = element.parent.name\n",
    "            list_text = element.get_text(strip=True)\n",
    "            if parent == 'ul':\n",
    "                text.append(f'- {list_text}\\n')\n",
    "            elif parent == 'ol':\n",
    "                item_number = len(element.find_previous_siblings('li')) + 1\n",
    "                text.append(f'{item_number}. {list_text}\\n')\n",
    "        elif element.name == 'br':\n",
    "            text.append('\\n')\n",
    "        elif element.name in ['ul', 'ol']:\n",
    "            if not text[-1].endswith('\\n'):\n",
    "                text.append('\\n')\n",
    "    return sanitize_text(''.join(text))\n",
    "\n",
    "def load_existing_data(output_dir=''):\n",
    "    \"\"\"\n",
    "    Load existing URL mapping and downloaded pages from url_mapping.csv\n",
    "    Returns:\n",
    "        pd.DataFrame: Existing URL mapping\n",
    "        set: Downloaded page IDs\n",
    "        int: Last used ID counter\n",
    "    \"\"\"\n",
    "    mapping_file = os.path.join(output_dir, 'url_mapping.csv')\n",
    "    if os.path.exists(mapping_file):\n",
    "        df = pd.read_csv(mapping_file)\n",
    "        downloaded_ids = set(df['id'].values)\n",
    "        last_id = df['id'].max() if not df.empty else 0\n",
    "        return df, downloaded_ids, last_id + 1\n",
    "    return pd.DataFrame(columns=['id', 'url']), set(), 0\n",
    "\n",
    "def scrape_website(start_url, max_pages=10, output_dir='', id_counter=0):\n",
    "    \"\"\"\n",
    "    Scrape website using BFS approach\n",
    "    Args:\n",
    "        start_url (str): URL to start scraping from\n",
    "        max_pages (int): Max pages to scrape **for this website**\n",
    "        output_dir (str): Directory to save text files\n",
    "        id_counter (int): Starting ID for file numbering\n",
    "    Returns:\n",
    "        pd.DataFrame: Updated URL mapping\n",
    "        int: Updated ID counter\n",
    "    \"\"\"\n",
    "    # Load existing data\n",
    "    df_existing, downloaded_ids_existing, _ = load_existing_data(output_dir)\n",
    "    visited = set(df_existing['url'].values)\n",
    "    queue = deque([start_url])\n",
    "    domain = get_domain(start_url)\n",
    "    data = df_existing.to_dict('records')\n",
    "    headers = {'User-Agent': 'Mozilla/5.0 (Windows NT 10.0; Win64; x64) AppleWebKit/537.36 (KHTML, like Gecko) Chrome/58.0.3029.110 Safari/537.3'}\n",
    "    pages_scraped = 0  # Track pages scraped for this website\n",
    "\n",
    "    while queue and pages_scraped < max_pages:\n",
    "        current_url = queue.popleft()\n",
    "        time.sleep(3)  \n",
    "        if current_url in visited:\n",
    "            print(f\"Skipping already visited URL: {current_url}\")\n",
    "            continue\n",
    "\n",
    "        try:\n",
    "            response = requests.get(current_url, headers=headers, timeout=10)\n",
    "            response.raise_for_status()\n",
    "        except Exception as e:\n",
    "            print(f\"Error fetching {current_url}: {str(e)}\")\n",
    "            continue\n",
    "\n",
    "        soup = BeautifulSoup(response.text, 'html.parser')\n",
    "        structured_text = extract_structured_text(soup)\n",
    "        sanitized_text = sanitize_text(structured_text)\n",
    "        filename = os.path.join(output_dir, f\"{id_counter}.txt\")\n",
    "        \n",
    "        try:\n",
    "            with open(filename, 'w', encoding='utf-8') as f:\n",
    "                f.write(sanitized_text)\n",
    "        except IOError as e:\n",
    "            print(f\"Error writing file {filename}: {str(e)}\")\n",
    "            continue\n",
    "\n",
    "        data.append({'id': id_counter, 'url': current_url})\n",
    "        visited.add(current_url)\n",
    "        print(f\"Scraped [{id_counter}] {current_url}\")\n",
    "        id_counter += 1\n",
    "        pages_scraped += 1\n",
    "\n",
    "        # Process links\n",
    "        for link in soup.find_all('a', href=True):\n",
    "            href = link['href'].strip()\n",
    "            absolute_url = urljoin(current_url, href)\n",
    "            parsed_url = urlparse(absolute_url)\n",
    "            if parsed_url.scheme in ('http', 'https') and parsed_url.netloc == domain:\n",
    "                if absolute_url not in visited and absolute_url not in queue:\n",
    "                    queue.append(absolute_url)\n",
    "\n",
    "    # Update DataFrame and save\n",
    "    df = pd.DataFrame(data)\n",
    "    df.to_csv(os.path.join(output_dir, 'url_mapping.csv'), index=False)\n",
    "    return df, id_counter\n",
    "\n"
   ]
  },
  {
   "cell_type": "code",
   "execution_count": 4,
   "metadata": {},
   "outputs": [
    {
     "name": "stdout",
     "output_type": "stream",
     "text": [
      "\n",
      "Scraping: https://www.uscis.gov/policy-manual/volume-2-part-f-chapter-5\n",
      "Scraped [100] https://www.uscis.gov/policy-manual/volume-2-part-f-chapter-5\n",
      "Scraped [101] https://www.uscis.gov/policy-manual/volume-2-part-f-chapter-5#main-content\n",
      "Error fetching https://www.uscis.gov/link/88483: 403 Client Error: Forbidden for url: https://myaccount.uscis.gov/oauth/authorize?client_id=b008a9c2-7fb8-4620-b596-a538bd5911c1&code_challenge=NWOsXaPHAWK2GCxqsAzdt8CQn-Ygm4Bh-2O_bD_uy9Y&code_challenge_method=S256&nonce=806879a19504c8c39d7690bd2c263116&redirect_uri=https%3A%2F%2Fmy.uscis.gov%2Foidc%2Fcallback&response_type=code&scope=openid%20email%20groups%20ial%20mobile&state=806879a19504c8c39d7690bd2c263116\n",
      "Error fetching https://www.uscis.gov/link/88486: 403 Client Error: Forbidden for url: https://myaccount.uscis.gov/oauth/authorize?client_id=b008a9c2-7fb8-4620-b596-a538bd5911c1&code_challenge=M8zncwHFkr-yhHYV_j63ET4kOTQ_GfJuKxijT2nvhFo&code_challenge_method=S256&nonce=6b713b809e3a1d759779e416a955c64e&redirect_uri=https%3A%2F%2Fmy.uscis.gov%2Foidc%2Fcallback&response_type=code&scope=openid%20email%20groups%20ial%20mobile&state=6b713b809e3a1d759779e416a955c64e&landingpage=signUp\n",
      "Scraped [102] https://www.uscis.gov/newsroom/alerts\n",
      "Scraped [103] https://www.uscis.gov/newsroom/news-releases\n",
      "Scraped [104] https://www.uscis.gov/citizenship-resource-center/naturalization-related-data-and-statistics\n",
      "\n",
      "Scraping completed. DataFrame saved as 'url_mapping.csv'\n"
     ]
    }
   ],
   "source": [
    "# Head node of the website to be scraped\n",
    "WEBSITES = [\n",
    "   'https://www.uscis.gov/policy-manual/volume-2-part-f-chapter-5'\n",
    "]\n",
    "BREADTH = 5  # Max pages per website\n",
    "\n",
    "if __name__ == \"__main__\":\n",
    "    # Initialize ID counter from existing data\n",
    "    _, _, id_counter = load_existing_data(output_dir='output/')\n",
    "    \n",
    "    for website in WEBSITES:\n",
    "        print(f\"\\nScraping: {website}\")\n",
    "        df, id_counter = scrape_website(website, max_pages=BREADTH, output_dir='output/', id_counter=id_counter)\n",
    "    \n",
    "    print(\"\\nScraping completed. DataFrame saved as 'url_mapping.csv'\")"
   ]
  },
  {
   "cell_type": "code",
   "execution_count": null,
   "metadata": {},
   "outputs": [
    {
     "data": {
      "text/plain": [
       "' \\nhttps://studyinthestates.dhs.gov/students/prepare/students-and-the-form-i-20\\nhttps://www.uscis.gov/working-in-the-united-states/students-and-exchange-visitors/optional-practical-training-opt-for-f-1-students\\n\\n'"
      ]
     },
     "execution_count": 5,
     "metadata": {},
     "output_type": "execute_result"
    }
   ],
   "source": [
    "\"\"\" \n",
    "https://studyinthestates.dhs.gov/students/prepare/students-and-the-form-i-20\n",
    "https://www.uscis.gov/working-in-the-united-states/students-and-exchange-visitors/optional-practical-training-opt-for-f-1-students\n",
    "https://www.uscis.gov/policy-manual/volume-2-part-f-chapter-5\n",
    "\n",
    "\"\"\""
   ]
  },
  {
   "cell_type": "code",
   "execution_count": null,
   "metadata": {},
   "outputs": [
    {
     "data": {
      "text/plain": [
       "' \\nNeed to be Scraped\\n'"
      ]
     },
     "execution_count": 1,
     "metadata": {},
     "output_type": "execute_result"
    }
   ],
   "source": [
    "\"\"\" \n",
    "Need to be Scraped\n",
    "\n",
    "\"\"\""
   ]
  },
  {
   "cell_type": "code",
   "execution_count": null,
   "metadata": {},
   "outputs": [],
   "source": []
  }
 ],
 "metadata": {
  "kernelspec": {
   "display_name": "base",
   "language": "python",
   "name": "python3"
  },
  "language_info": {
   "codemirror_mode": {
    "name": "ipython",
    "version": 3
   },
   "file_extension": ".py",
   "mimetype": "text/x-python",
   "name": "python",
   "nbconvert_exporter": "python",
   "pygments_lexer": "ipython3",
   "version": "3.11.5"
  }
 },
 "nbformat": 4,
 "nbformat_minor": 2
}
