{
 "cells": [
  {
   "cell_type": "code",
   "execution_count": 16,
   "metadata": {},
   "outputs": [],
   "source": [
    "# Import libraries\n",
    "import google.generativeai as genai\n",
    "import dotenv\n",
    "import pandas as pd\n",
    "import os\n",
    "dotenv.load_dotenv()\n",
    "import time\n"
   ]
  },
  {
   "cell_type": "code",
   "execution_count": 17,
   "metadata": {},
   "outputs": [],
   "source": [
    "df = pd.read_csv('../dataset/cleaned_dataset_railguard.csv')"
   ]
  },
  {
   "cell_type": "code",
   "execution_count": 18,
   "metadata": {},
   "outputs": [
    {
     "data": {
      "text/html": [
       "<div>\n",
       "<style scoped>\n",
       "    .dataframe tbody tr th:only-of-type {\n",
       "        vertical-align: middle;\n",
       "    }\n",
       "\n",
       "    .dataframe tbody tr th {\n",
       "        vertical-align: top;\n",
       "    }\n",
       "\n",
       "    .dataframe thead th {\n",
       "        text-align: right;\n",
       "    }\n",
       "</style>\n",
       "<table border=\"1\" class=\"dataframe\">\n",
       "  <thead>\n",
       "    <tr style=\"text-align: right;\">\n",
       "      <th></th>\n",
       "      <th>Question</th>\n",
       "      <th>ground_truth</th>\n",
       "    </tr>\n",
       "  </thead>\n",
       "  <tbody>\n",
       "    <tr>\n",
       "      <th>0</th>\n",
       "      <td>How do I apply for CPT?</td>\n",
       "      <td>True</td>\n",
       "    </tr>\n",
       "    <tr>\n",
       "      <th>1</th>\n",
       "      <td>What documents are required for CPT?</td>\n",
       "      <td>True</td>\n",
       "    </tr>\n",
       "    <tr>\n",
       "      <th>2</th>\n",
       "      <td>How long does CPT processing take?</td>\n",
       "      <td>True</td>\n",
       "    </tr>\n",
       "    <tr>\n",
       "      <th>3</th>\n",
       "      <td>Can I work before receiving CPT authorization?</td>\n",
       "      <td>True</td>\n",
       "    </tr>\n",
       "    <tr>\n",
       "      <th>4</th>\n",
       "      <td>Do I need to pay any fees for CPT?</td>\n",
       "      <td>True</td>\n",
       "    </tr>\n",
       "  </tbody>\n",
       "</table>\n",
       "</div>"
      ],
      "text/plain": [
       "                                         Question  ground_truth\n",
       "0                         How do I apply for CPT?          True\n",
       "1            What documents are required for CPT?          True\n",
       "2              How long does CPT processing take?          True\n",
       "3  Can I work before receiving CPT authorization?          True\n",
       "4              Do I need to pay any fees for CPT?          True"
      ]
     },
     "execution_count": 18,
     "metadata": {},
     "output_type": "execute_result"
    }
   ],
   "source": [
    "df.head()"
   ]
  },
  {
   "cell_type": "code",
   "execution_count": 19,
   "metadata": {},
   "outputs": [
    {
     "data": {
      "text/plain": [
       "ground_truth\n",
       "True     127\n",
       "False    126\n",
       "Name: count, dtype: int64"
      ]
     },
     "execution_count": 19,
     "metadata": {},
     "output_type": "execute_result"
    }
   ],
   "source": [
    "# Count values in ground_truth column\n",
    "df['ground_truth'].value_counts()"
   ]
  },
  {
   "cell_type": "code",
   "execution_count": null,
   "metadata": {},
   "outputs": [],
   "source": []
  },
  {
   "cell_type": "code",
   "execution_count": 44,
   "metadata": {},
   "outputs": [],
   "source": [
    "class Railguard:\n",
    "    def __init__(self) -> None:\n",
    "        api_key = os.getenv(\"GOOGLE_API_KEY\")\n",
    "        model_name = 'gemini-1.5-flash'\n",
    "        genai.configure(api_key=api_key)\n",
    "        railguard_prompt = \"\"\"\n",
    "                            You are a railguard meant to judge if the user question is related to Law or not. Particularly if it is related to rules or regulations or if the question asks anything related to laws or rules or instruction related to international students studying in the United States on an F1 Visa. \n",
    "                            If the question is related, reply True; else, reply False.\n",
    "                            \"\"\"\n",
    "        self.railguard_model = genai.GenerativeModel(model_name, system_instruction=railguard_prompt)\n",
    "        self.chat_model = genai.GenerativeModel(model_name)\n",
    "\n",
    "    def railguard(self, question: str) -> bool:\n",
    "        response = self.railguard_model.generate_content(question)\n",
    "        return response.text.strip().lower() == \"true\"\n",
    "    \n",
    "    def chat(self, question: str) -> str:\n",
    "        valid_question = self.railguard(question)\n",
    "        print(valid_question)\n",
    "        if valid_question:\n",
    "            response = self.chat_model.generate_content(question)\n",
    "            response = response.text\n",
    "        else:\n",
    "            response = \"I am sorry, I am not programmed to answer this question.\"\n",
    "        return response.strip()\n",
    "        \n"
   ]
  },
  {
   "cell_type": "code",
   "execution_count": 45,
   "metadata": {},
   "outputs": [],
   "source": [
    "railguard_obj = Railguard()"
   ]
  },
  {
   "cell_type": "code",
   "execution_count": 21,
   "metadata": {},
   "outputs": [
    {
     "name": "stdout",
     "output_type": "stream",
     "text": [
      "Processed 0 rows\n",
      "Processed 10 rows\n",
      "Processed 20 rows\n",
      "Processed 30 rows\n",
      "Processed 40 rows\n",
      "Processed 50 rows\n",
      "Processed 60 rows\n",
      "Processed 70 rows\n",
      "Processed 80 rows\n",
      "Processed 90 rows\n",
      "Processed 100 rows\n",
      "Processed 110 rows\n",
      "Processed 120 rows\n",
      "Processed 130 rows\n",
      "Processed 140 rows\n",
      "Processed 150 rows\n",
      "Processed 160 rows\n",
      "Processed 170 rows\n",
      "Processed 180 rows\n",
      "Processed 190 rows\n",
      "Processed 200 rows\n",
      "Processed 210 rows\n",
      "Processed 220 rows\n",
      "Processed 230 rows\n",
      "Processed 240 rows\n",
      "Processed 250 rows\n"
     ]
    }
   ],
   "source": [
    "\n",
    "# result_list = []\n",
    "\n",
    "# # Iterate through DataFrame rows\n",
    "# for index, row in df.iterrows():\n",
    "#     question = row['Question']\n",
    "#     ground_truth = row['ground_truth']\n",
    "#     prediction = railguard_obj.railguard(question)\n",
    "    \n",
    "#     # Append results to the list\n",
    "#     result_list.append({'question': question, 'ground_truth': ground_truth, 'prediction': prediction})\n",
    "    \n",
    "#     # Pause to avoid excessive API calls\n",
    "#     time.sleep(3)\n",
    "#     if index % 10 == 0:\n",
    "#         print(f\"Processed {index} rows\")\n",
    "#         time.sleep(10)    \n",
    "\n",
    "# # Convert list to DataFrame\n",
    "# result_df = pd.DataFrame(result_list)\n"
   ]
  },
  {
   "cell_type": "code",
   "execution_count": 39,
   "metadata": {},
   "outputs": [],
   "source": [
    "# Initialize Railguard\n",
    "railguard_obj = Railguard()"
   ]
  },
  {
   "cell_type": "code",
   "execution_count": 22,
   "metadata": {},
   "outputs": [],
   "source": [
    "#save the result to a csv file\n",
    "result_df.to_csv('../results/railguard_eval/result.csv', index=False)\n"
   ]
  },
  {
   "cell_type": "code",
   "execution_count": 26,
   "metadata": {},
   "outputs": [
    {
     "name": "stdout",
     "output_type": "stream",
     "text": [
      "Accuracy: 1.00\n",
      "prediction    False  True \n",
      "ground_truth              \n",
      "False           126      0\n",
      "True              1    126\n",
      "Precision: 1.00\n",
      "Recall: 0.99\n",
      "F1 Score: 1.00\n"
     ]
    }
   ],
   "source": [
    "# Calculate accuracy\n",
    "accuracy = (result_df['ground_truth'] == result_df['prediction']).mean()\n",
    "print(f\"Accuracy: {accuracy:.2f}\")\n",
    "\n",
    "# Calculate confusion matrix\n",
    "confusion_matrix = pd.crosstab(result_df['ground_truth'], result_df['prediction'])\n",
    "print(confusion_matrix)\n",
    "\n",
    "# Calculate precision, recall, and F1 score\n",
    "precision = confusion_matrix[True][True] / confusion_matrix.sum(axis=0)[True]\n",
    "recall = confusion_matrix[True][True] / confusion_matrix.sum(axis=1)[True]\n",
    "f1_score = 2 * precision * recall / (precision + recall)\n",
    "\n",
    "print(f\"Precision: {precision:.2f}\")\n",
    "print(f\"Recall: {recall:.2f}\")\n",
    "print(f\"F1 Score: {f1_score:.2f}\")\n"
   ]
  },
  {
   "cell_type": "code",
   "execution_count": 27,
   "metadata": {},
   "outputs": [
    {
     "data": {
      "image/png": "[encoded data removed]",
      "text/plain": [
       "<Figure size 640x480 with 2 Axes>"
      ]
     },
     "metadata": {},
     "output_type": "display_data"
    }
   ],
   "source": [
    "# using scale learn to print the confusion matrix\n",
    "from sklearn.metrics import confusion_matrix\n",
    "import seaborn as sns\n",
    "import matplotlib.pyplot as plt\n",
    "\n",
    "conf_matrix = confusion_matrix(result_df['ground_truth'], result_df['prediction'])\n",
    "sns.heatmap(conf_matrix, annot=True, fmt='d', cmap='Blues')\n",
    "plt.xlabel('Predicted')\n",
    "plt.ylabel('Actual')\n",
    "plt.title('Confusion Matrix')\n",
    "plt.show()\n"
   ]
  },
  {
   "cell_type": "code",
   "execution_count": 46,
   "metadata": {},
   "outputs": [
    {
     "name": "stdout",
     "output_type": "stream",
     "text": [
      "True\n",
      "International students in the United States on an F-1 visa must adhere to a strict set of rules. Failure to comply can result in the termination of their visa status and deportation.  The rules can be broadly categorized as follows:\n",
      "\n",
      "**I. Maintaining Student Status:**\n",
      "\n",
      "* **Full-Time Enrollment:**  Students must maintain a full course of study as defined by their Designated School Official (DSO) at their accredited institution. This usually means taking a minimum number of credit hours each semester or quarter.  Part-time study is generally only permitted under specific circumstances (e.g., final semester, medical reasons) and requires permission from the DSO.\n",
      "* **Academic Progress:** Students must maintain satisfactory academic progress, as defined by their school. This usually involves maintaining a minimum GPA or passing a certain percentage of their courses.  Failure to meet these standards can jeopardize their visa status.\n",
      "* **Program Completion:** Students must complete their program of study within a reasonable timeframe.  Excessive extensions or switching to a significantly different program may require additional approvals.\n",
      "* **Reporting Changes:**  Students must promptly report any changes to their address, school, or employment status to their DSO and U.S. Citizenship and Immigration Services (USCIS).\n",
      "\n",
      "**II. Employment Restrictions:**\n",
      "\n",
      "* **Curricular Practical Training (CPT):**  Allows students to work off-campus in a position directly related to their major, but only *before* graduation and *with prior authorization* from their DSO and USCIS.  There are specific requirements about the nature of the employment and its relationship to the student's course of study.\n",
      "* **Optional Practical Training (OPT):** Allows students to work off-campus for up to 12 months (or 24 months for STEM majors) *after* graduation.  This also requires prior authorization from USCIS and is tied to their degree program.  STEM OPT extension requires employer sponsorship.\n",
      "* **On-Campus Employment:** Students are typically allowed to work on campus for a limited number of hours per week.  This usually does not require USCIS approval but must adhere to their school's regulations.\n",
      "* **Other Employment:**  Most other forms of off-campus employment are prohibited unless explicitly authorized by USCIS.\n",
      "\n",
      "**III. Travel:**\n",
      "\n",
      "* **Maintaining F-1 Status While Traveling:** Students need to ensure they have the necessary documentation, including their I-20 form (Certificate of Eligibility for Nonimmigrant Student Status) and valid F-1 visa, to re-enter the US after traveling abroad.\n",
      "* **Travel Restrictions:**  Prolonged absences from the U.S. can affect their F-1 status and may require explanation to their DSO.\n",
      "\n",
      "**IV. Other Important Rules:**\n",
      "\n",
      "* **Maintaining Valid Visa:** Students must ensure their F-1 visa remains valid throughout their stay in the US.\n",
      "* **Compliance with School Regulations:**  Students must comply with all rules and regulations of their educational institution.\n",
      "* **No Public Charge:** Students are expected to demonstrate financial ability to support themselves while in the U.S.\n",
      "\n",
      "**V.  Consequences of Violation:**\n",
      "\n",
      "Violation of F-1 visa regulations can lead to serious consequences, including:\n",
      "\n",
      "* **Loss of F-1 status:** This means the student is no longer legally permitted to study in the US.\n",
      "* **Deportation:**  The student may be forced to leave the country.\n",
      "* **Bar from future entry:**  The student may be banned from re-entering the US for a specified period or indefinitely.\n",
      "\n",
      "It's crucial for all F-1 visa holders to understand these rules and to consult their DSO at their educational institution for any questions or concerns.  The information provided here is for general guidance only and should not be considered legal advice.  Always check with the official USCIS website and your DSO for the most up-to-date information.\n"
     ]
    }
   ],
   "source": [
    "question = \"What are the rules for international students studying in the United States on an F1 Visa?\"\n",
    "response = railguard_obj.chat(question)\n",
    "print(response)"
   ]
  },
  {
   "cell_type": "code",
   "execution_count": 48,
   "metadata": {},
   "outputs": [
    {
     "name": "stdout",
     "output_type": "stream",
     "text": [
      "False\n",
      "I am sorry, I am not programmed to answer this question.\n"
     ]
    }
   ],
   "source": [
    "question = \"what kinda of ice cream do you like?\"\n",
    "response = railguard_obj.chat(question)\n",
    "print(response)"
   ]
  },
  {
   "cell_type": "code",
   "execution_count": null,
   "metadata": {},
   "outputs": [],
   "source": []
  }
 ],
 "metadata": {
  "kernelspec": {
   "display_name": "base",
   "language": "python",
   "name": "python3"
  },
  "language_info": {
   "codemirror_mode": {
    "name": "ipython",
    "version": 3
   },
   "file_extension": ".py",
   "mimetype": "text/x-python",
   "name": "python",
   "nbconvert_exporter": "python",
   "pygments_lexer": "ipython3",
   "version": "3.11.5"
  }
 },
 "nbformat": 4,
 "nbformat_minor": 2
}
